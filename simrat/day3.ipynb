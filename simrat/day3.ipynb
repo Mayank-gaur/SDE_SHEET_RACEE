{
 "cells": [
  {
   "cell_type": "code",
   "execution_count": 1,
   "metadata": {},
   "outputs": [
    {
     "name": "stdout",
     "output_type": "stream",
     "text": [
      "\n"
     ]
    }
   ],
   "source": [
    "# Day 3     "
   ]
  },
  {
   "cell_type": "code",
   "execution_count": 18,
   "metadata": {},
   "outputs": [
    {
     "name": "stdout",
     "output_type": "stream",
     "text": [
      "625\n"
     ]
    }
   ],
   "source": [
    "#50. Pow(x, n)\n",
    "\n",
    "def mypow(x,n):\n",
    "    ans = 1\n",
    "    flag = False\n",
    "    if n < 0:\n",
    "        flag = True\n",
    "    n = abs(n)\n",
    "    while n != 0:\n",
    "        if n % 2 == 0:\n",
    "            x = x*x\n",
    "            n=n//2\n",
    "        else:\n",
    "            ans *= x\n",
    "            n = n - 1\n",
    "    if flag:\n",
    "        ans = 1/(ans)\n",
    "    return ans\n",
    "\n",
    "print(mypow(5,4)) \n",
    "\n",
    "        \n",
    "\n",
    "     "
   ]
  },
  {
   "cell_type": "code",
   "execution_count": 2,
   "metadata": {},
   "outputs": [
    {
     "data": {
      "text/plain": [
       "2"
      ]
     },
     "execution_count": 2,
     "metadata": {},
     "output_type": "execute_result"
    }
   ],
   "source": [
    "# Majority Element n/2\n",
    "# MOORE VOTING ALGO\n",
    "def majorElement(nums):\n",
    "    count = 0\n",
    "    for i in range(len(nums)):\n",
    "        if count == 0:\n",
    "            elem = nums[i]\n",
    "        if nums[i] == elem:\n",
    "            count+=1\n",
    "        else:\n",
    "            count-=1\n",
    "    return elem\n",
    "lar = [2,2,1,1,1,2,2,2]\n",
    "majorElement(lar)"
   ]
  },
  {
   "cell_type": "code",
   "execution_count": 16,
   "metadata": {},
   "outputs": [
    {
     "name": "stdout",
     "output_type": "stream",
     "text": [
      "[1, 2]\n"
     ]
    }
   ],
   "source": [
    "#229. Majority Element II\n",
    "nums = [1,1,1,3,3,2,2,2]\n",
    "def major3Element(nums):\n",
    "    count1 = 0\n",
    "    count = 0\n",
    "    elem1,elem2 = -1,-1\n",
    "    for i in range(len(nums)):\n",
    "        if nums[i] == elem1:\n",
    "            count+=1\n",
    "        elif nums[i] == elem2:\n",
    "            count1+=1\n",
    "        elif count == 0:\n",
    "            elem1 = nums[i]\n",
    "            count+=1\n",
    "        elif count1 == 0:\n",
    "            elem2 = nums[i]\n",
    "            count1+=1\n",
    "        else:\n",
    "            count-=1\n",
    "            count1-=1\n",
    "        \n",
    "    lar = []\n",
    "    if nums.count(elem1) > len(nums)//3:\n",
    "        lar.append(elem1)\n",
    "    if nums.count(elem2) > len(nums)//3:\n",
    "        lar.append(elem2)\n",
    "    return lar\n",
    "\n",
    "    \n",
    "print(major3Element(nums))\n"
   ]
  },
  {
   "cell_type": "code",
   "execution_count": 17,
   "metadata": {},
   "outputs": [
    {
     "name": "stdout",
     "output_type": "stream",
     "text": [
      "[1, 1, 2, 3, 3]\n",
      "3\n"
     ]
    }
   ],
   "source": [
    "# Reverse Pair\n",
    "inversion = 0\n",
    "arr = [1,3,2,3,1]\n",
    "def mergedtwoSortedarray(sa1,sa2):\n",
    "    global inversion\n",
    "    sa2_inx = 0\n",
    "    for sa1_inx in range(len(sa1)):\n",
    "        while sa2_inx < len(sa2) and arr[sa1_inx] > 2*arr[sa2_inx]:\n",
    "            sa2_inx+=1\n",
    "        inversion += sa2_inx\n",
    "    sa1_inx = 0\n",
    "    sa2_inx = 0\n",
    "    ans = []\n",
    "    while sa1_inx < len(sa1) and sa2_inx < len(sa2):\n",
    "        if sa1[sa1_inx] > sa2[sa2_inx]:    # Will find inversion here \n",
    "            ans.append(sa2[sa2_inx])\n",
    "            sa2_inx+=1\n",
    "        else:\n",
    "            ans.append(sa1[sa1_inx])\n",
    "            sa1_inx+=1\n",
    "    #print(ans,sa1_inx,sa2_inx)\n",
    "    if sa2_inx < len(sa2):                # so2 is unfinished\n",
    "        ans+=sa2[sa2_inx:]\n",
    "    elif sa1_inx < len(sa1):\n",
    "        ans+=sa1[sa1_inx:]\n",
    "    return ans\n",
    "\n",
    "def merge(arr,low,high):\n",
    "    if low == high:\n",
    "        return [arr[low]]\n",
    "    else:\n",
    "        mid = (low+high)//2\n",
    "        sa1 = merge(arr,low, mid)\n",
    "        sa2 = merge(arr,mid+1,high)\n",
    "        ans = mergedtwoSortedarray(sa1,sa2)\n",
    "        return ans\n",
    "\n",
    "print(merge(arr,0,len(arr)-1))\n",
    "print(inversion)    \n"
   ]
  },
  {
   "cell_type": "markdown",
   "metadata": {},
   "source": []
  }
 ],
 "metadata": {
  "interpreter": {
   "hash": "13eb0af71620a846e484681143862ad0a4deab6cadfc353264e5c14897c11035"
  },
  "kernelspec": {
   "display_name": "Python 3.9.9 64-bit",
   "language": "python",
   "name": "python3"
  },
  "language_info": {
   "codemirror_mode": {
    "name": "ipython",
    "version": 3
   },
   "file_extension": ".py",
   "mimetype": "text/x-python",
   "name": "python",
   "nbconvert_exporter": "python",
   "pygments_lexer": "ipython3",
   "version": "3.9.9"
  },
  "orig_nbformat": 4
 },
 "nbformat": 4,
 "nbformat_minor": 2
}
