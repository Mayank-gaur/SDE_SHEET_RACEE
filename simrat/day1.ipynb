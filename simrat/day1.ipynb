{
 "cells": [
  {
   "cell_type": "code",
   "execution_count": 13,
   "metadata": {},
   "outputs": [
    {
     "data": {
      "text/plain": [
       "[[1, 0, 1], [0, 0, 0], [1, 0, 1]]"
      ]
     },
     "execution_count": 13,
     "metadata": {},
     "output_type": "execute_result"
    }
   ],
   "source": [
    "#73. Set Matrix Zeroes\n",
    "matrix =  [[1,1,1],[1,0,1],[1,1,1]]\n",
    "row,column = set(),set()   # Make two set and find the element with index and store in two diffrent set\n",
    "for i in range(len(matrix)):\n",
    "    for j in range(len(matrix[0])):\n",
    "        if matrix[i][j] == 0:\n",
    "            row.add(i)\n",
    "            column.add(j)\n",
    "            column.add(j)\n",
    "for i in row:\n",
    "    for j in range(len(matrix[0])):\n",
    "        matrix[i][j] = 0\n",
    "for j in column:\n",
    "    for i in range(len(matrix)):\n",
    "        matrix[i][j] = 0\n",
    "\n",
    "matrix\n",
    "\n"
   ]
  },
  {
   "cell_type": "markdown",
   "metadata": {},
   "source": [
    "# Set Matrix zero\n",
    "2 ways \n",
    "First is make two arrays rows and col which stores the value\n",
    "TC:- O(n**2)\n",
    "Space:- O(n)\n",
    "\n",
    "Second way \n",
    "Is to make first row/column 0  where 0 is found \n",
    "Note:- Take special varible for 0,0\n",
    "\n",
    "TC:- O(n**2)\n",
    "Space:- O(n)\n"
   ]
  },
  {
   "cell_type": "code",
   "execution_count": 11,
   "metadata": {},
   "outputs": [
    {
     "data": {
      "text/plain": [
       "[[1, 0, 1], [0, 0, 0], [1, 0, 1]]"
      ]
     },
     "execution_count": 11,
     "metadata": {},
     "output_type": "execute_result"
    }
   ],
   "source": [
    "# Approach 2 for the Set Matrix Zeroes\n",
    "matrix =  [[1,1,1],[1,0,1],[1,1,1]]\n",
    "iscol = False\n",
    "for i in range(len(matrix)):\n",
    "    if matrix[i][0] == 0:\n",
    "        iscol=True\n",
    "    for j in range(1,len(matrix[0])):\n",
    "        if matrix[i][j] == 0:\n",
    "            matrix[i][0] = 0\n",
    "            matrix[0][j] = 0\n",
    "for i in range(1,len(matrix)):\n",
    "    for j in range(1,len(matrix[0])):\n",
    "        if matrix[i][0] == 0 or matrix[0][j] == 0:\n",
    "            matrix[i][j] = 0\n",
    "if matrix[0][0]==0:\n",
    "    matrix[0] = [0]*len(matrix[0])\n",
    "\n",
    "if iscol:\n",
    "    for i in range(len(matrix)):\n",
    "        matrix[i][0] = 0\n",
    "\n",
    "matrix\n",
    "\n",
    "\n"
   ]
  },
  {
   "cell_type": "markdown",
   "metadata": {},
   "source": [
    "Three approach of pascal triangle:\n",
    "1. Sum of element to find next row\n",
    "2. Find a relationship nCr and nC_{r+1}\n",
    "3. Factorial Way nCr"
   ]
  },
  {
   "cell_type": "code",
   "execution_count": 1,
   "metadata": {},
   "outputs": [
    {
     "name": "stdout",
     "output_type": "stream",
     "text": [
      "[[1], [1, 1], [1, 2, 1], [1, 3, 3, 1], [1, 4, 6, 4, 1]]\n"
     ]
    }
   ],
   "source": [
    "# Array approach O(n**2),O(n) \n",
    "# Pascal triangle\n",
    "def generate(numRows: int):\n",
    "        if numRows == 1:\n",
    "            return [[1]]\n",
    "        ans = [[1],[1,1]]\n",
    "        for i in range(2,numRows):\n",
    "            prev = ans[i-1]\n",
    "            nxt = [1]\n",
    "            prev_inx,next_inx = 0,1\n",
    "            while next_inx < len(prev):\n",
    "                nxt+= [prev[prev_inx]+prev[next_inx]]\n",
    "                prev_inx+=1\n",
    "                next_inx+=1\n",
    "            nxt+=[1]\n",
    "            ans.append(nxt)\n",
    "        return ans\n",
    "print(generate(5))"
   ]
  },
  {
   "cell_type": "markdown",
   "metadata": {},
   "source": [
    "# Next Permutation\n",
    "1. Basic Approach is that to find the first decreasing element going from back\n",
    "2. Then find the element again from left which is greater than that element\n",
    "3. Then reverse list from inx1 to that element\n",
    "\n",
    "\n",
    "```` \n",
    "if number is [1,2,3,5,4]\n",
    "\n",
    "        3\n",
    "    2       5\n",
    "1               4\n",
    "\n",
    "so from right first decreasing element is '3'\n",
    "arr[inx1] = '3'\n",
    "\n",
    "then we again iterate from right to find first element which greater than '3'\n",
    "so\n",
    "arr[inx2] = '4'\n",
    "So, inx1 <-----> inx2\n",
    "-> arr = [1,2,4,5,3]\n",
    "so rotate that arr from inx1 to last\n",
    "final arr = [1,2,3,5,6]\n",
    "\n",
    "Note:- if inx1 = -1 then make arr is descending order make so just reverse it \n",
    "\n",
    "\n",
    "\n",
    "````\n"
   ]
  },
  {
   "cell_type": "code",
   "execution_count": 7,
   "metadata": {},
   "outputs": [
    {
     "data": {
      "text/plain": [
       "[3, 1, 2]"
      ]
     },
     "execution_count": 7,
     "metadata": {},
     "output_type": "execute_result"
    }
   ],
   "source": [
    "# Next permutation\n",
    "nums = [2,3,1]\n",
    "inx1 = len(nums) - 1\n",
    "while inx1 > 0:              # First decreasing element\n",
    "    if nums[inx1] > nums[inx1-1]:\n",
    "        inx1-=1\n",
    "        break\n",
    "    inx1-=1\n",
    "inx2 = len(nums) - 1\n",
    "while inx2 > 0:                      # find the inx2 such that it is greater than inx1\n",
    "    if nums[inx1] < nums[inx2]:\n",
    "        break\n",
    "    inx2-=1                          # Swap the two indexs\n",
    "if inx1 == inx2 == 0:\n",
    "    nums[:] = nums[::-1]\n",
    "else:\n",
    "    nums[inx1],nums[inx2] = nums[inx2],nums[inx1]\n",
    "    nums[:] = nums[:inx1+1]+ nums[inx1+1:][::-1]\n",
    "nums"
   ]
  },
  {
   "cell_type": "markdown",
   "metadata": {},
   "source": [
    "# Maximum Subarray\n",
    "1. Brute force approach:- Iterate over all sub-array and find the maximum sum of all. Tc:- O(n**2) \n",
    "2. Kadane Algorithms:- TC O(n)\n",
    "````\n",
    "Kadane Algorithmns\n",
    "\n",
    "intialize sum = 0\n",
    "intialize ans = nums[0]\n",
    "\n",
    "sum stores sum so far\n",
    "if sum of subarray so far < 0 then we make sum 0\n",
    "if sum of subarray > ans then we update ans \n",
    "````\n"
   ]
  },
  {
   "cell_type": "code",
   "execution_count": 3,
   "metadata": {},
   "outputs": [
    {
     "data": {
      "text/plain": [
       "-1"
      ]
     },
     "execution_count": 3,
     "metadata": {},
     "output_type": "execute_result"
    }
   ],
   "source": [
    "#53. Maximum Subarray\n",
    "def kadanealgo(nums):\n",
    "    sam = 0\n",
    "    ans = nums[0]\n",
    "    for i in range(len(nums)):\n",
    "        sam += nums[i]\n",
    "        ans = max(sam,ans)\n",
    "        if sam < 0:\n",
    "            sam = 0\n",
    "\n",
    "    return ans\n",
    "\n",
    "kadanealgo([-2,-1])"
   ]
  },
  {
   "cell_type": "markdown",
   "metadata": {},
   "source": [
    "# Sort Array\n",
    "## We sort array which contains 3 types of element\n",
    "````\n",
    "\n",
    "initialize left = 0\n",
    "initialize i = 0\n",
    "right = arr of length\n",
    "loop till left < right\n",
    "    i == 0\n",
    "        replace left <---> i\n",
    "        left+=1\n",
    "        i+=1\n",
    "    i == 1\n",
    "        i+=1\n",
    "    i == 2\n",
    "        right-=1\n",
    "        nums[i] <---> right\n",
    "    \n",
    "\n",
    "````\n"
   ]
  },
  {
   "cell_type": "code",
   "execution_count": 8,
   "metadata": {},
   "outputs": [
    {
     "data": {
      "text/plain": [
       "[0, 0, 1, 1, 2, 2]"
      ]
     },
     "execution_count": 8,
     "metadata": {},
     "output_type": "execute_result"
    }
   ],
   "source": [
    "#Sort array\n",
    "def sortColor(nums):\n",
    "    left,right = 0,len(nums)\n",
    "    i = 0\n",
    "    while i<right:\n",
    "        if nums[i] == 0:\n",
    "            nums[left],nums[i] = nums[i],nums[left]\n",
    "            left+=1 \n",
    "            i+=1\n",
    "        elif nums[i] == 1:\n",
    "            i+=1\n",
    "        elif nums[i] == 2:\n",
    "            right-=1\n",
    "            nums[right],nums[i] = nums[i],nums[right]\n",
    "    return nums\n",
    "sortColor([2,0,2,1,1,0])\n"
   ]
  },
  {
   "cell_type": "markdown",
   "metadata": {},
   "source": [
    "# Stock Buy and Sell\n",
    "````\n",
    "We maintain min_left which it initialize as the as arr[0]\n",
    "profit as 0\n",
    "for every element, profit is compared with every element maximum result is returned\n",
    "````\n"
   ]
  },
  {
   "cell_type": "code",
   "execution_count": 2,
   "metadata": {},
   "outputs": [
    {
     "name": "stdout",
     "output_type": "stream",
     "text": [
      "5\n"
     ]
    }
   ],
   "source": [
    "#Stock Buy and Sell\n",
    "prices = [7,1,5,3,6,4]\n",
    "min_left = prices[0]\n",
    "profit = 0 \n",
    "for i in range(len(prices)):\n",
    "    min_left = min(min_left,prices[i])\n",
    "    profit = max(profit,prices[i] - min_left)\n",
    "print(profit)\n",
    "\n",
    "    \n",
    "\n"
   ]
  }
 ],
 "metadata": {
  "interpreter": {
   "hash": "13eb0af71620a846e484681143862ad0a4deab6cadfc353264e5c14897c11035"
  },
  "kernelspec": {
   "display_name": "Python 3.9.9 64-bit",
   "language": "python",
   "name": "python3"
  },
  "language_info": {
   "codemirror_mode": {
    "name": "ipython",
    "version": 3
   },
   "file_extension": ".py",
   "mimetype": "text/x-python",
   "name": "python",
   "nbconvert_exporter": "python",
   "pygments_lexer": "ipython3",
   "version": "3.9.9"
  },
  "orig_nbformat": 4
 },
 "nbformat": 4,
 "nbformat_minor": 2
}
